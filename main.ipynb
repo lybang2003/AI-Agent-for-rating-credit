{
 "cells": [
  {
   "cell_type": "code",
   "execution_count": null,
   "id": "7687acd8",
   "metadata": {},
   "outputs": [],
   "source": [
    "# Xem danh sách các cột thực tế trong file CSV\n",
    "import pandas as pd\n",
    "df = pd.read_csv('corporate_rating.csv')\n",
    "print('Danh sách các cột trong file CSV:')\n",
    "for col in df.columns:\n",
    "    print(col)"
   ]
  },
  {
   "cell_type": "code",
   "execution_count": null,
   "id": "efb12dbe",
   "metadata": {},
   "outputs": [],
   "source": []
  },
  {
   "cell_type": "code",
   "execution_count": null,
   "id": "79e99688",
   "metadata": {},
   "outputs": [],
   "source": []
  }
 ],
 "metadata": {
  "kernelspec": {
   "display_name": "Python 3",
   "language": "python",
   "name": "python3"
  },
  "language_info": {
   "name": "python",
   "version": "3.12.3"
  }
 },
 "nbformat": 4,
 "nbformat_minor": 5
}
